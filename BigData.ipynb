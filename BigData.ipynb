{
  "nbformat": 4,
  "nbformat_minor": 0,
  "metadata": {
    "colab": {
      "provenance": [],
      "include_colab_link": true
    },
    "kernelspec": {
      "name": "python3",
      "display_name": "Python 3"
    },
    "language_info": {
      "name": "python"
    }
  },
  "cells": [
    {
      "cell_type": "markdown",
      "metadata": {
        "id": "view-in-github",
        "colab_type": "text"
      },
      "source": [
        "<a href=\"https://colab.research.google.com/github/ikii12/BigData/blob/main/BigData.ipynb\" target=\"_parent\"><img src=\"https://colab.research.google.com/assets/colab-badge.svg\" alt=\"Open In Colab\"/></a>"
      ]
    },
    {
      "cell_type": "code",
      "execution_count": null,
      "metadata": {
        "id": "WwbIgyAj9TcX"
      },
      "outputs": [],
      "source": []
    },
    {
      "cell_type": "code",
      "source": [
        "import numpy as np\n",
        "\n",
        "nilai = np.array([76, 84, 92, 65, 87, 94, 77, 83, 96, 85])\n",
        "\n",
        "rata2   = np.mean(nilai)\n",
        "maks    = np.max(nilai)\n",
        "minim   = np.min(nilai)\n",
        "std_pop = np.std(nilai)\n",
        "\n",
        "print(f\"Data nilai       : {nilai.tolist()}\")\n",
        "print(f\"Rata-rata        : {rata2:.2f}\")\n",
        "print(f\"Nilai tertinggi  : {maks}\")\n",
        "print(f\"Nilai terendah   : {minim}\")\n",
        "print(f\"Std dev (populasi): {std_pop:.2f}\")\n"
      ],
      "metadata": {
        "colab": {
          "base_uri": "https://localhost:8080/"
        },
        "id": "JxKC1yMs_Nxq",
        "outputId": "7dc10703-de7a-4065-9350-5ecbe724b182"
      },
      "execution_count": null,
      "outputs": [
        {
          "output_type": "stream",
          "name": "stdout",
          "text": [
            "Data nilai       : [76, 84, 92, 65, 87, 94, 77, 83, 96, 85]\n",
            "Rata-rata        : 83.90\n",
            "Nilai tertinggi  : 96\n",
            "Nilai terendah   : 65\n",
            "Std dev (populasi): 8.90\n"
          ]
        }
      ]
    }
  ]
}